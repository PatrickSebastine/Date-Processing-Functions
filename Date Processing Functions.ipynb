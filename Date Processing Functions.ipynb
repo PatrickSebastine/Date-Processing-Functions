{
 "cells": [
  {
   "cell_type": "markdown",
   "id": "e6967b0b",
   "metadata": {},
   "source": [
    "# Date Processing Functions"
   ]
  },
  {
   "cell_type": "code",
   "execution_count": 6,
   "id": "3624524d",
   "metadata": {},
   "outputs": [],
   "source": [
    "# Importing library\n",
    "import datetime"
   ]
  },
  {
   "cell_type": "code",
   "execution_count": 7,
   "id": "a5c8f2c6",
   "metadata": {},
   "outputs": [
    {
     "name": "stdout",
     "output_type": "stream",
     "text": [
      "Enter the year: 2023\n",
      "Enter the month: 6\n",
      "Number of days in the month: 30\n"
     ]
    }
   ],
   "source": [
    "def days_in_month(year, month):\n",
    "    \"\"\"\n",
    "    Inputs:\n",
    "      year  - an integer between start_datetime\n",
    "      month - an integer between 1 and 12 representing the month\n",
    "\n",
    "    Returns:\n",
    "      The number of days in the input month.\n",
    "    \"\"\"\n",
    "    start_date = datetime.date(year, month, 1)\n",
    "    if month == 12:\n",
    "        end_date = datetime.date(year + 1, 1, 1)\n",
    "    else:\n",
    "        end_date = datetime.date(year, month + 1, 1)\n",
    "    num_days = (end_date - start_date).days\n",
    "    return num_days\n",
    "\n",
    "year = int(input(\"Enter the year: \"))\n",
    "month = int(input(\"Enter the month: \"))\n",
    "num_days = days_in_month(year, month)\n",
    "\n",
    "print(\"Number of days in the month:\", num_days)"
   ]
  },
  {
   "cell_type": "code",
   "execution_count": 8,
   "id": "6b69ce3a",
   "metadata": {},
   "outputs": [
    {
     "name": "stdout",
     "output_type": "stream",
     "text": [
      "Enter the year: 2030\n",
      "Enter the month: 2\n",
      "Enter the day: 2\n",
      "Valid date\n"
     ]
    }
   ],
   "source": [
    "def is_valid_date(year, month, day):\n",
    "    \"\"\"\n",
    "    Inputs:\n",
    "      year  - an integer representing the year\n",
    "      month - an integer representing the month\n",
    "      day   - an integer representing the day\n",
    "\n",
    "    Returns:\n",
    "      True if year-month-day is a valid date or\n",
    "      Invalid date\n",
    "    \"\"\"\n",
    "    try:\n",
    "        datetime.date(year, month, day)\n",
    "        return True\n",
    "    except ValueError:\n",
    "        return False\n",
    "    \n",
    "year = int(input(\"Enter the year: \"))\n",
    "month = int(input(\"Enter the month: \"))\n",
    "day = int(input(\"Enter the day: \"))\n",
    "\n",
    "if is_valid_date(year, month, day):\n",
    "    print(\"Valid date\")\n",
    "else:\n",
    "    print(\"Invalid date\")"
   ]
  },
  {
   "cell_type": "code",
   "execution_count": 10,
   "id": "da1b6f7c",
   "metadata": {},
   "outputs": [
    {
     "name": "stdout",
     "output_type": "stream",
     "text": [
      "Enter the first year: 2023\n",
      "Enter the first month: 2\n",
      "Enter the first day: 29\n",
      "Enter the second year: 2023\n",
      "Enter the second month: 6\n",
      "Enter the second day: 30\n",
      "Number of days between the dates: 0\n"
     ]
    }
   ],
   "source": [
    "def days_between(year1, month1, day1, year2, month2, day2):\n",
    "    \"\"\"\n",
    "    Inputs:\n",
    "      year1  - an integer representing the year of the first date\n",
    "      month1 - an integer representing the month of the first date\n",
    "      day1   - an integer representing the day of the first date\n",
    "      year2  - an integer representing the year of the second date\n",
    "      month2 - an integer representing the month of the second date\n",
    "      day2   - an integer representing the day of the second date\n",
    "\n",
    "    Returns:\n",
    "      The number of days from the first date to the second date.\n",
    "      Returns 0 if either date is invalid or the second date is\n",
    "      before the first date.\n",
    "    \"\"\"\n",
    "    try:\n",
    "        date1 = datetime.date(YEAR1, MONTH1, DAY1)\n",
    "        date2 = datetime.date(YEAR2, MONTH2, DAY2)\n",
    "        if date2 < date1:\n",
    "            return 0\n",
    "        else:\n",
    "            num_days = (date2 - date1).days\n",
    "            return num_days\n",
    "    except ValueError:\n",
    "        return 0\n",
    "\n",
    "YEAR1 = int(input(\"Enter the first year: \"))\n",
    "MONTH1 = int(input(\"Enter the first month: \"))\n",
    "DAY1 = int(input(\"Enter the first day: \"))\n",
    "YEAR2 = int(input(\"Enter the second year: \"))\n",
    "MONTH2 = int(input(\"Enter the second month: \"))\n",
    "DAY2 = int(input(\"Enter the second day: \"))\n",
    "\n",
    "num_days = days_between(YEAR1, MONTH1, DAY1, YEAR2, MONTH2, DAY2)\n",
    "print(\"Number of days between the dates:\", num_days)"
   ]
  },
  {
   "cell_type": "code",
   "execution_count": 11,
   "id": "29f8ef20",
   "metadata": {},
   "outputs": [
    {
     "name": "stdout",
     "output_type": "stream",
     "text": [
      "Enter the year: 1983\n",
      "Enter the month: 10\n",
      "Enter the day: 21\n",
      "Age in days: 14481\n"
     ]
    }
   ],
   "source": [
    "def age_in_days(year, month, day):\n",
    "    \"\"\"\n",
    "    Inputs:\n",
    "      year  - an integer representing the birthday year\n",
    "      month - an integer representing the birthday month\n",
    "      day   - an integer representing the birthday day\n",
    "\n",
    "    Returns:\n",
    "      The age of a person with the input birthday as of today.\n",
    "      Returns 0 if the input date is invalid or if the input\n",
    "      date is in the future.\n",
    "    \"\"\"\n",
    "    try:\n",
    "        birthday = datetime.date(YEAR, MONTH, DAY)\n",
    "        today = datetime.date.today()\n",
    "        if birthday > today:\n",
    "            return 0\n",
    "        else:\n",
    "            age_days = (today - birthday).days\n",
    "            return age_days\n",
    "    except ValueError:\n",
    "        return 0\n",
    "\n",
    "YEAR = int(input(\"Enter the year: \"))\n",
    "MONTH = int(input(\"Enter the month: \"))\n",
    "DAY = int(input(\"Enter the day: \"))\n",
    "\n",
    "age_days = age_in_days(YEAR, MONTH, DAY)\n",
    "print(\"Age in days:\", age_days)"
   ]
  },
  {
   "cell_type": "code",
   "execution_count": null,
   "id": "5b1e93a8",
   "metadata": {},
   "outputs": [],
   "source": []
  }
 ],
 "metadata": {
  "kernelspec": {
   "display_name": "Python 3 (ipykernel)",
   "language": "python",
   "name": "python3"
  },
  "language_info": {
   "codemirror_mode": {
    "name": "ipython",
    "version": 3
   },
   "file_extension": ".py",
   "mimetype": "text/x-python",
   "name": "python",
   "nbconvert_exporter": "python",
   "pygments_lexer": "ipython3",
   "version": "3.9.13"
  }
 },
 "nbformat": 4,
 "nbformat_minor": 5
}
